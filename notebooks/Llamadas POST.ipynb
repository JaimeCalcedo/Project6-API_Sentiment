{
 "cells": [
  {
   "cell_type": "markdown",
   "metadata": {},
   "source": [
    "Primero añadimos la base de datos de Mongo a nuestro Jupyter"
   ]
  },
  {
   "cell_type": "code",
   "execution_count": 1,
   "metadata": {},
   "outputs": [
    {
     "name": "stdout",
     "output_type": "stream",
     "text": [
      "2020-11-27T19:03:56.043+0100\tFailed: open script_Project_json: no such file or directory\r\n",
      "2020-11-27T19:03:56.043+0100\t0 document(s) imported successfully. 0 document(s) failed to import.\r\n"
     ]
    }
   ],
   "source": [
    "!mongoimport --db Project --collection Whatsapp --jsonArray script_Project_json"
   ]
  },
  {
   "cell_type": "code",
   "execution_count": 5,
   "metadata": {},
   "outputs": [],
   "source": [
    "from pymongo import MongoClient\n",
    "import requests "
   ]
  },
  {
   "cell_type": "markdown",
   "metadata": {},
   "source": [
    "Ahora tenemos que añadir datos a nuestra base de datos en Mongo que esta vacía. Lo haremos con llamadas POST. "
   ]
  },
  {
   "cell_type": "markdown",
   "metadata": {},
   "source": [
    "Para meter los datos los tenemos que meter en un diccionario. Tal y como nos indica la documentación, primero deberemos extraer los values y utilizarlos como variables. Después utilizaremos esas variables para llamar a nuestra función y asi añadir los datos a la base de datos. \n",
    "Ver https://flask.palletsprojects.com/en/1.1.x/quickstart/#the-request-object"
   ]
  },
  {
   "cell_type": "code",
   "execution_count": 21,
   "metadata": {},
   "outputs": [
    {
     "data": {
      "text/plain": [
       "<Response [200]>"
      ]
     },
     "execution_count": 21,
     "metadata": {},
     "output_type": "execute_result"
    }
   ],
   "source": [
    "#Llamada POST de prueba \n",
    "url = \"http://127.0.0.1:5000/nuevomensaje\"\n",
    "datos = {\"group\": \"españoles_RMCF\",\n",
    "        \"user\": \"Ramos\",\n",
    "        \"message\": \"¿El domingo vamos a las Ventas después del partido?\"}\n",
    "requests.post(url, data=datos)"
   ]
  },
  {
   "cell_type": "markdown",
   "metadata": {},
   "source": [
    "Vemos que funciona. Vamos a hacer el resto de llamadas para tener nuestros 4 grupos de whatsapp con unos 10 mensajes cada uno. \n"
   ]
  },
  {
   "cell_type": "markdown",
   "metadata": {},
   "source": [
    "Comenzamos con el grupo de whatsapp de los españoles del Madrid"
   ]
  },
  {
   "cell_type": "code",
   "execution_count": 22,
   "metadata": {},
   "outputs": [
    {
     "data": {
      "text/plain": [
       "<Response [200]>"
      ]
     },
     "execution_count": 22,
     "metadata": {},
     "output_type": "execute_result"
    }
   ],
   "source": [
    "datos = {\"group\": \"españoles_RMCF\",\n",
    "        \"user\": \"Nacho\",\n",
    "        \"message\": \"¡Si!\"}\n",
    "requests.post(url, data=datos)"
   ]
  },
  {
   "cell_type": "code",
   "execution_count": 23,
   "metadata": {},
   "outputs": [
    {
     "data": {
      "text/plain": [
       "<Response [200]>"
      ]
     },
     "execution_count": 23,
     "metadata": {},
     "output_type": "execute_result"
    }
   ],
   "source": [
    "datos = {\"group\": \"españoles_RMCF\",\n",
    "        \"user\": \"Nacho\",\n",
    "        \"message\": \"¡Torea José Tomás!\"}\n",
    "requests.post(url, data=datos)"
   ]
  },
  {
   "cell_type": "code",
   "execution_count": 24,
   "metadata": {},
   "outputs": [
    {
     "data": {
      "text/plain": [
       "<Response [200]>"
      ]
     },
     "execution_count": 24,
     "metadata": {},
     "output_type": "execute_result"
    }
   ],
   "source": [
    "datos = {\"group\": \"españoles_RMCF\",\n",
    "        \"user\": \"Asensio\",\n",
    "        \"message\": \"Yo me borro chavales, odio los toros\"}\n",
    "requests.post(url, data=datos)"
   ]
  },
  {
   "cell_type": "code",
   "execution_count": 25,
   "metadata": {},
   "outputs": [
    {
     "data": {
      "text/plain": [
       "<Response [200]>"
      ]
     },
     "execution_count": 25,
     "metadata": {},
     "output_type": "execute_result"
    }
   ],
   "source": [
    "datos = {\"group\": \"españoles_RMCF\",\n",
    "        \"user\": \"Ramos\",\n",
    "        \"message\": \"¡Venga vente cabrón!\"}\n",
    "requests.post(url, data=datos)"
   ]
  },
  {
   "cell_type": "code",
   "execution_count": 26,
   "metadata": {},
   "outputs": [
    {
     "data": {
      "text/plain": [
       "<Response [200]>"
      ]
     },
     "execution_count": 26,
     "metadata": {},
     "output_type": "execute_result"
    }
   ],
   "source": [
    "datos = {\"group\": \"españoles_RMCF\",\n",
    "        \"user\": \"Carvajal\",\n",
    "        \"message\": \"¡Yo me apunto!\"}\n",
    "requests.post(url, data=datos)"
   ]
  },
  {
   "cell_type": "code",
   "execution_count": 27,
   "metadata": {},
   "outputs": [
    {
     "data": {
      "text/plain": [
       "<Response [200]>"
      ]
     },
     "execution_count": 27,
     "metadata": {},
     "output_type": "execute_result"
    }
   ],
   "source": [
    "datos = {\"group\": \"españoles_RMCF\",\n",
    "        \"user\": \"Asensio\",\n",
    "        \"message\": \"Que va tío, me da demasiada pena que traten así al toro\"}\n",
    "requests.post(url, data=datos)"
   ]
  },
  {
   "cell_type": "code",
   "execution_count": 28,
   "metadata": {},
   "outputs": [
    {
     "data": {
      "text/plain": [
       "<Response [200]>"
      ]
     },
     "execution_count": 28,
     "metadata": {},
     "output_type": "execute_result"
    }
   ],
   "source": [
    "datos = {\"group\": \"españoles_RMCF\",\n",
    "        \"user\": \"Ramos\",\n",
    "        \"message\": \"Bueno tu te lo pierdes\"}\n",
    "requests.post(url, data=datos)"
   ]
  },
  {
   "cell_type": "code",
   "execution_count": 29,
   "metadata": {},
   "outputs": [
    {
     "data": {
      "text/plain": [
       "<Response [200]>"
      ]
     },
     "execution_count": 29,
     "metadata": {},
     "output_type": "execute_result"
    }
   ],
   "source": [
    "datos = {\"group\": \"españoles_RMCF\",\n",
    "        \"user\": \"Ramos\",\n",
    "        \"message\": \"Pido 3 entradas solo entonces\"}\n",
    "requests.post(url, data=datos)"
   ]
  },
  {
   "cell_type": "code",
   "execution_count": 30,
   "metadata": {},
   "outputs": [
    {
     "data": {
      "text/plain": [
       "<Response [200]>"
      ]
     },
     "execution_count": 30,
     "metadata": {},
     "output_type": "execute_result"
    }
   ],
   "source": [
    "datos = {\"group\": \"españoles_RMCF\",\n",
    "        \"user\": \"Nacho\",\n",
    "        \"message\": \"Perfecto, nos vemos ahí\"}\n",
    "requests.post(url, data=datos)"
   ]
  },
  {
   "cell_type": "code",
   "execution_count": 31,
   "metadata": {},
   "outputs": [
    {
     "data": {
      "text/plain": [
       "<Response [200]>"
      ]
     },
     "execution_count": 31,
     "metadata": {},
     "output_type": "execute_result"
    }
   ],
   "source": [
    "datos = {\"group\": \"españoles_RMCF\",\n",
    "        \"user\": \"Carvajal\",\n",
    "        \"message\": \"¡Gracias capiii!\"}\n",
    "requests.post(url, data=datos)"
   ]
  },
  {
   "cell_type": "code",
   "execution_count": 32,
   "metadata": {},
   "outputs": [
    {
     "data": {
      "text/plain": [
       "<Response [200]>"
      ]
     },
     "execution_count": 32,
     "metadata": {},
     "output_type": "execute_result"
    }
   ],
   "source": [
    "datos = {\"group\": \"españoles_RMCF\",\n",
    "        \"user\": \"Asensio\",\n",
    "        \"message\": \"¡Pasadlo bien mi gente!\"}\n",
    "requests.post(url, data=datos)"
   ]
  },
  {
   "cell_type": "markdown",
   "metadata": {},
   "source": [
    "A continuación el grupo de los brasileños del Madrid"
   ]
  },
  {
   "cell_type": "code",
   "execution_count": 33,
   "metadata": {},
   "outputs": [
    {
     "data": {
      "text/plain": [
       "<Response [200]>"
      ]
     },
     "execution_count": 33,
     "metadata": {},
     "output_type": "execute_result"
    }
   ],
   "source": [
    "datos = {\"group\": \"brasileños_RMCF\",\n",
    "        \"user\": \"Marcelo\",\n",
    "        \"message\": \"¿Como van los chavales?\"}\n",
    "requests.post(url, data=datos)"
   ]
  },
  {
   "cell_type": "code",
   "execution_count": 34,
   "metadata": {},
   "outputs": [
    {
     "data": {
      "text/plain": [
       "<Response [200]>"
      ]
     },
     "execution_count": 34,
     "metadata": {},
     "output_type": "execute_result"
    }
   ],
   "source": [
    "datos = {\"group\": \"brasileños_RMCF\",\n",
    "        \"user\": \"Marcelo\",\n",
    "        \"message\": \"¿Una buena pary el domingo después del partido?\"}\n",
    "requests.post(url, data=datos)"
   ]
  },
  {
   "cell_type": "code",
   "execution_count": 35,
   "metadata": {},
   "outputs": [
    {
     "data": {
      "text/plain": [
       "<Response [200]>"
      ]
     },
     "execution_count": 35,
     "metadata": {},
     "output_type": "execute_result"
    }
   ],
   "source": [
    "datos = {\"group\": \"brasileños_RMCF\",\n",
    "        \"user\": \"Casemiro\",\n",
    "        \"message\": \"Puff, no se tío luego el lunes hay que rendir\"}\n",
    "requests.post(url, data=datos)"
   ]
  },
  {
   "cell_type": "code",
   "execution_count": 36,
   "metadata": {},
   "outputs": [
    {
     "data": {
      "text/plain": [
       "<Response [200]>"
      ]
     },
     "execution_count": 36,
     "metadata": {},
     "output_type": "execute_result"
    }
   ],
   "source": [
    "datos = {\"group\": \"brasileños_RMCF\",\n",
    "        \"user\": \"Vinicius\",\n",
    "        \"message\": \"Como se entere el míster la liamos\"}\n",
    "requests.post(url, data=datos)"
   ]
  },
  {
   "cell_type": "code",
   "execution_count": 37,
   "metadata": {},
   "outputs": [
    {
     "data": {
      "text/plain": [
       "<Response [200]>"
      ]
     },
     "execution_count": 37,
     "metadata": {},
     "output_type": "execute_result"
    }
   ],
   "source": [
    "datos = {\"group\": \"brasileños_RMCF\",\n",
    "        \"user\": \"Rodrygo\",\n",
    "        \"message\": \"Yo me apunto 100%\"}\n",
    "requests.post(url, data=datos)"
   ]
  },
  {
   "cell_type": "code",
   "execution_count": 38,
   "metadata": {},
   "outputs": [
    {
     "data": {
      "text/plain": [
       "<Response [200]>"
      ]
     },
     "execution_count": 38,
     "metadata": {},
     "output_type": "execute_result"
    }
   ],
   "source": [
    "datos = {\"group\": \"brasileños_RMCF\",\n",
    "        \"user\": \"Marcelo\",\n",
    "        \"message\": \"¡Grande Rodrygo!\"}\n",
    "requests.post(url, data=datos)"
   ]
  },
  {
   "cell_type": "code",
   "execution_count": 39,
   "metadata": {},
   "outputs": [
    {
     "data": {
      "text/plain": [
       "<Response [200]>"
      ]
     },
     "execution_count": 39,
     "metadata": {},
     "output_type": "execute_result"
    }
   ],
   "source": [
    "datos = {\"group\": \"brasileños_RMCF\",\n",
    "        \"user\": \"Marcelo\",\n",
    "        \"message\": \"Venga animaros chavales, bebemos poquito lo prometo\"}\n",
    "requests.post(url, data=datos)"
   ]
  },
  {
   "cell_type": "code",
   "execution_count": 40,
   "metadata": {},
   "outputs": [
    {
     "data": {
      "text/plain": [
       "<Response [200]>"
      ]
     },
     "execution_count": 40,
     "metadata": {},
     "output_type": "execute_result"
    }
   ],
   "source": [
    "datos = {\"group\": \"brasileños_RMCF\",\n",
    "        \"user\": \"Vinicius\",\n",
    "        \"message\": \"Bueno una cortita yo si me tomo\"}\n",
    "requests.post(url, data=datos)"
   ]
  },
  {
   "cell_type": "code",
   "execution_count": 41,
   "metadata": {},
   "outputs": [
    {
     "data": {
      "text/plain": [
       "<Response [200]>"
      ]
     },
     "execution_count": 41,
     "metadata": {},
     "output_type": "execute_result"
    }
   ],
   "source": [
    "datos = {\"group\": \"brasileños_RMCF\",\n",
    "        \"user\": \"Vinicius\",\n",
    "        \"message\": \"¿Donde quedamos?\"}\n",
    "requests.post(url, data=datos)"
   ]
  },
  {
   "cell_type": "code",
   "execution_count": 42,
   "metadata": {},
   "outputs": [
    {
     "data": {
      "text/plain": [
       "<Response [200]>"
      ]
     },
     "execution_count": 42,
     "metadata": {},
     "output_type": "execute_result"
    }
   ],
   "source": [
    "datos = {\"group\": \"brasileños_RMCF\",\n",
    "        \"user\": \"Casemiro\",\n",
    "        \"message\": \"Nada yo imposible, tengo cena con la familia\"}\n",
    "requests.post(url, data=datos)"
   ]
  },
  {
   "cell_type": "markdown",
   "metadata": {},
   "source": [
    "Grupo de los franceses del Madrid "
   ]
  },
  {
   "cell_type": "code",
   "execution_count": 43,
   "metadata": {},
   "outputs": [
    {
     "data": {
      "text/plain": [
       "<Response [200]>"
      ]
     },
     "execution_count": 43,
     "metadata": {},
     "output_type": "execute_result"
    }
   ],
   "source": [
    "datos = {\"group\": \"franceses_RMCF\",\n",
    "        \"user\": \"Benzema\",\n",
    "        \"message\": \"¿Teneís plan para el domingo?\"}\n",
    "requests.post(url, data=datos)"
   ]
  },
  {
   "cell_type": "code",
   "execution_count": 44,
   "metadata": {},
   "outputs": [
    {
     "data": {
      "text/plain": [
       "<Response [200]>"
      ]
     },
     "execution_count": 44,
     "metadata": {},
     "output_type": "execute_result"
    }
   ],
   "source": [
    "datos = {\"group\": \"franceses_RMCF\",\n",
    "        \"user\": \"Varane\",\n",
    "        \"message\": \"Me ha dicho Ramos que los españoles van a los toros\"}\n",
    "requests.post(url, data=datos)"
   ]
  },
  {
   "cell_type": "code",
   "execution_count": 45,
   "metadata": {},
   "outputs": [
    {
     "data": {
      "text/plain": [
       "<Response [200]>"
      ]
     },
     "execution_count": 45,
     "metadata": {},
     "output_type": "execute_result"
    }
   ],
   "source": [
    "datos = {\"group\": \"franceses_RMCF\",\n",
    "        \"user\": \"Benzema\",\n",
    "        \"message\": \"Si eso me ha dicho Carvajal, yo paso, no me gustan\"}\n",
    "requests.post(url, data=datos)"
   ]
  },
  {
   "cell_type": "code",
   "execution_count": 46,
   "metadata": {},
   "outputs": [
    {
     "data": {
      "text/plain": [
       "<Response [200]>"
      ]
     },
     "execution_count": 46,
     "metadata": {},
     "output_type": "execute_result"
    }
   ],
   "source": [
    "datos = {\"group\": \"franceses_RMCF\",\n",
    "        \"user\": \"Varane\",\n",
    "        \"message\": \"Ya ya, ni a mi\"}\n",
    "requests.post(url, data=datos)"
   ]
  },
  {
   "cell_type": "code",
   "execution_count": 47,
   "metadata": {},
   "outputs": [
    {
     "data": {
      "text/plain": [
       "<Response [200]>"
      ]
     },
     "execution_count": 47,
     "metadata": {},
     "output_type": "execute_result"
    }
   ],
   "source": [
    "datos = {\"group\": \"franceses_RMCF\",\n",
    "        \"user\": \"Mendy\",\n",
    "        \"message\": \"Marcelo me ha dicho que los brasileños se van de fiesta\"}\n",
    "requests.post(url, data=datos)"
   ]
  },
  {
   "cell_type": "code",
   "execution_count": 48,
   "metadata": {},
   "outputs": [
    {
     "data": {
      "text/plain": [
       "<Response [200]>"
      ]
     },
     "execution_count": 48,
     "metadata": {},
     "output_type": "execute_result"
    }
   ],
   "source": [
    "datos = {\"group\": \"franceses_RMCF\",\n",
    "        \"user\": \"Benzema\",\n",
    "        \"message\": \"Ese plan ya me gusta un poco más\"}\n",
    "requests.post(url, data=datos)"
   ]
  },
  {
   "cell_type": "code",
   "execution_count": 49,
   "metadata": {},
   "outputs": [
    {
     "data": {
      "text/plain": [
       "<Response [200]>"
      ]
     },
     "execution_count": 49,
     "metadata": {},
     "output_type": "execute_result"
    }
   ],
   "source": [
    "datos = {\"group\": \"franceses_RMCF\",\n",
    "        \"user\": \"Benzema\",\n",
    "        \"message\": \"¿Nos unimos?\"}\n",
    "requests.post(url, data=datos)"
   ]
  },
  {
   "cell_type": "code",
   "execution_count": 50,
   "metadata": {},
   "outputs": [
    {
     "data": {
      "text/plain": [
       "<Response [200]>"
      ]
     },
     "execution_count": 50,
     "metadata": {},
     "output_type": "execute_result"
    }
   ],
   "source": [
    "datos = {\"group\": \"franceses_RMCF\",\n",
    "        \"user\": \"Mendy\",\n",
    "        \"message\": \"Por mi guay\"}\n",
    "requests.post(url, data=datos)"
   ]
  },
  {
   "cell_type": "code",
   "execution_count": 51,
   "metadata": {},
   "outputs": [
    {
     "data": {
      "text/plain": [
       "<Response [200]>"
      ]
     },
     "execution_count": 51,
     "metadata": {},
     "output_type": "execute_result"
    }
   ],
   "source": [
    "datos = {\"group\": \"franceses_RMCF\",\n",
    "        \"user\": \"Varane\",\n",
    "        \"message\": \"Yo paso, prefiero quedarme en casa descansando\"}\n",
    "requests.post(url, data=datos)"
   ]
  },
  {
   "cell_type": "markdown",
   "metadata": {},
   "source": [
    "Grupo de capitanes del Real Madrid"
   ]
  },
  {
   "cell_type": "code",
   "execution_count": 53,
   "metadata": {},
   "outputs": [
    {
     "data": {
      "text/plain": [
       "<Response [200]>"
      ]
     },
     "execution_count": 53,
     "metadata": {},
     "output_type": "execute_result"
    }
   ],
   "source": [
    "datos = {\"group\": \"capitanes\",\n",
    "        \"user\": \"Ramos\",\n",
    "        \"message\": \"¿Marcelo que coño es eso de una fiesta el domingo?\"}\n",
    "requests.post(url, data=datos)"
   ]
  },
  {
   "cell_type": "code",
   "execution_count": 54,
   "metadata": {},
   "outputs": [
    {
     "data": {
      "text/plain": [
       "<Response [200]>"
      ]
     },
     "execution_count": 54,
     "metadata": {},
     "output_type": "execute_result"
    }
   ],
   "source": [
    "datos = {\"group\": \"capitanes\",\n",
    "        \"user\": \"Ramos\",\n",
    "        \"message\": \"Si queremos hacer algo este año en Europa os teneís que dejar ya de gilipolleces\"}\n",
    "requests.post(url, data=datos)"
   ]
  },
  {
   "cell_type": "code",
   "execution_count": 55,
   "metadata": {},
   "outputs": [
    {
     "data": {
      "text/plain": [
       "<Response [200]>"
      ]
     },
     "execution_count": 55,
     "metadata": {},
     "output_type": "execute_result"
    }
   ],
   "source": [
    "datos = {\"group\": \"capitanes\",\n",
    "        \"user\": \"Marcelo\",\n",
    "        \"message\": \"Bueno tranquilito capi, ¿Y tu juerga en los toros que?\"}\n",
    "requests.post(url, data=datos)"
   ]
  },
  {
   "cell_type": "code",
   "execution_count": 56,
   "metadata": {},
   "outputs": [
    {
     "data": {
      "text/plain": [
       "<Response [200]>"
      ]
     },
     "execution_count": 56,
     "metadata": {},
     "output_type": "execute_result"
    }
   ],
   "source": [
    "datos = {\"group\": \"capitanes\",\n",
    "        \"user\": \"Ramos\",\n",
    "        \"message\": \"Yo no me emborracho y a las 11 estoy en la cama imbécil\"}\n",
    "requests.post(url, data=datos)"
   ]
  },
  {
   "cell_type": "code",
   "execution_count": 57,
   "metadata": {},
   "outputs": [
    {
     "data": {
      "text/plain": [
       "<Response [200]>"
      ]
     },
     "execution_count": 57,
     "metadata": {},
     "output_type": "execute_result"
    }
   ],
   "source": [
    "datos = {\"group\": \"capitanes\",\n",
    "        \"user\": \"Varane\",\n",
    "        \"message\": \"Tranquilos chavales por favor\"}\n",
    "requests.post(url, data=datos)"
   ]
  },
  {
   "cell_type": "code",
   "execution_count": 58,
   "metadata": {},
   "outputs": [
    {
     "data": {
      "text/plain": [
       "<Response [200]>"
      ]
     },
     "execution_count": 58,
     "metadata": {},
     "output_type": "execute_result"
    }
   ],
   "source": [
    "datos = {\"group\": \"capitanes\",\n",
    "        \"user\": \"Benzema\",\n",
    "        \"message\": \"Nos tienes hasta los cojones Ramos, pesado déjanos en paz\"}\n",
    "requests.post(url, data=datos)"
   ]
  },
  {
   "cell_type": "code",
   "execution_count": 59,
   "metadata": {},
   "outputs": [
    {
     "data": {
      "text/plain": [
       "<Response [200]>"
      ]
     },
     "execution_count": 59,
     "metadata": {},
     "output_type": "execute_result"
    }
   ],
   "source": [
    "datos = {\"group\": \"capitanes\",\n",
    "        \"user\": \"Ramos\",\n",
    "        \"message\": \"Voy a hablar con el míster, esto no puede ser\"}\n",
    "requests.post(url, data=datos)"
   ]
  },
  {
   "cell_type": "code",
   "execution_count": 60,
   "metadata": {},
   "outputs": [
    {
     "data": {
      "text/plain": [
       "<Response [200]>"
      ]
     },
     "execution_count": 60,
     "metadata": {},
     "output_type": "execute_result"
    }
   ],
   "source": [
    "datos = {\"group\": \"capitanes\",\n",
    "        \"user\": \"Marcelo\",\n",
    "        \"message\": \"¡Chivota!\"}\n",
    "requests.post(url, data=datos)"
   ]
  },
  {
   "cell_type": "code",
   "execution_count": null,
   "metadata": {},
   "outputs": [],
   "source": []
  }
 ],
 "metadata": {
  "kernelspec": {
   "display_name": "Python 3",
   "language": "python",
   "name": "python3"
  },
  "language_info": {
   "codemirror_mode": {
    "name": "ipython",
    "version": 3
   },
   "file_extension": ".py",
   "mimetype": "text/x-python",
   "name": "python",
   "nbconvert_exporter": "python",
   "pygments_lexer": "ipython3",
   "version": "3.8.5"
  }
 },
 "nbformat": 4,
 "nbformat_minor": 4
}
